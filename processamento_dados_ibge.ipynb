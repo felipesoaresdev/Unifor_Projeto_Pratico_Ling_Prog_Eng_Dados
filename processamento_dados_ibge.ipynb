{
 "cells": [
  {
   "cell_type": "code",
   "execution_count": 1,
   "metadata": {},
   "outputs": [],
   "source": [
    "import csv\n",
    "import sqlite3\n",
    "from pathlib import Path"
   ]
  },
  {
   "cell_type": "code",
   "execution_count": 2,
   "metadata": {},
   "outputs": [],
   "source": [
    "# Caminho dos arquivos CSV\n",
    "caminho = Path(r'C:\\\\Users\\\\winis\\\\OneDrive\\\\Área de Trabalho\\\\POS Eng. Dados\\\\Linguagem de programação para Engenharia de Dados\\\\dados_ibge')\n",
    "arquivos = caminho.iterdir()"
   ]
  },
  {
   "cell_type": "code",
   "execution_count": 3,
   "metadata": {},
   "outputs": [],
   "source": [
    "# Função para dropar a tabela no SQLite\n",
    "def dropar_tabela(cursor):\n",
    "    cursor.execute('DROP TABLE IF EXISTS ENDERECO_IBGE')\n",
    "\n",
    "# Função para criar a tabela no SQLite\n",
    "def criar_tabela(cursor):\n",
    "    cursor.execute('CREATE TABLE IF NOT EXISTS ENDERECO_IBGE(COD_UF TEXT, COD_MUN TEXT, COD_ESPECIE TEXT, LATITUDE REAL, LONGITUDE REAL, NV_GEO_COORD TEXT)')\n",
    "\n",
    "# Função para inserir os dados do CSV na tabela SQLite\n",
    "def inserir_dados(cursor, dados):\n",
    "    cursor.executemany('INSERT INTO ENDERECO_IBGE VALUES (?, ?, ?, ?, ?, ?)', dados)"
   ]
  },
  {
   "cell_type": "code",
   "execution_count": 4,
   "metadata": {},
   "outputs": [],
   "source": [
    "# Nome do arquivo de banco de dados SQLite\n",
    "banco_de_dados = 'DESAFIO_2.db'\n",
    "\n",
    "# Conexão com o banco de dados SQLite\n",
    "conexao = sqlite3.connect(banco_de_dados)\n",
    "cursor = conexao.cursor()\n",
    "\n",
    "# Dropar a tabela se ela existir\n",
    "dropar_tabela(cursor)\n",
    "\n",
    "# Criar a tabela se ela não existir\n",
    "criar_tabela(cursor)"
   ]
  },
  {
   "cell_type": "code",
   "execution_count": 5,
   "metadata": {},
   "outputs": [
    {
     "name": "stdout",
     "output_type": "stream",
     "text": [
      "C:\\Users\\winis\\OneDrive\\Área de Trabalho\\POS Eng. Dados\\Linguagem de programação para Engenharia de Dados\\dados_ibge\\11.csv\n",
      "C:\\Users\\winis\\OneDrive\\Área de Trabalho\\POS Eng. Dados\\Linguagem de programação para Engenharia de Dados\\dados_ibge\\12.csv\n",
      "C:\\Users\\winis\\OneDrive\\Área de Trabalho\\POS Eng. Dados\\Linguagem de programação para Engenharia de Dados\\dados_ibge\\13.csv\n",
      "C:\\Users\\winis\\OneDrive\\Área de Trabalho\\POS Eng. Dados\\Linguagem de programação para Engenharia de Dados\\dados_ibge\\14.csv\n",
      "C:\\Users\\winis\\OneDrive\\Área de Trabalho\\POS Eng. Dados\\Linguagem de programação para Engenharia de Dados\\dados_ibge\\15.csv\n",
      "C:\\Users\\winis\\OneDrive\\Área de Trabalho\\POS Eng. Dados\\Linguagem de programação para Engenharia de Dados\\dados_ibge\\16.csv\n",
      "C:\\Users\\winis\\OneDrive\\Área de Trabalho\\POS Eng. Dados\\Linguagem de programação para Engenharia de Dados\\dados_ibge\\17.csv\n",
      "C:\\Users\\winis\\OneDrive\\Área de Trabalho\\POS Eng. Dados\\Linguagem de programação para Engenharia de Dados\\dados_ibge\\21.csv\n",
      "C:\\Users\\winis\\OneDrive\\Área de Trabalho\\POS Eng. Dados\\Linguagem de programação para Engenharia de Dados\\dados_ibge\\22.csv\n",
      "C:\\Users\\winis\\OneDrive\\Área de Trabalho\\POS Eng. Dados\\Linguagem de programação para Engenharia de Dados\\dados_ibge\\23.csv\n",
      "C:\\Users\\winis\\OneDrive\\Área de Trabalho\\POS Eng. Dados\\Linguagem de programação para Engenharia de Dados\\dados_ibge\\24.csv\n",
      "C:\\Users\\winis\\OneDrive\\Área de Trabalho\\POS Eng. Dados\\Linguagem de programação para Engenharia de Dados\\dados_ibge\\25.csv\n",
      "C:\\Users\\winis\\OneDrive\\Área de Trabalho\\POS Eng. Dados\\Linguagem de programação para Engenharia de Dados\\dados_ibge\\26.csv\n",
      "C:\\Users\\winis\\OneDrive\\Área de Trabalho\\POS Eng. Dados\\Linguagem de programação para Engenharia de Dados\\dados_ibge\\27.csv\n",
      "C:\\Users\\winis\\OneDrive\\Área de Trabalho\\POS Eng. Dados\\Linguagem de programação para Engenharia de Dados\\dados_ibge\\28.csv\n",
      "C:\\Users\\winis\\OneDrive\\Área de Trabalho\\POS Eng. Dados\\Linguagem de programação para Engenharia de Dados\\dados_ibge\\29.csv\n",
      "C:\\Users\\winis\\OneDrive\\Área de Trabalho\\POS Eng. Dados\\Linguagem de programação para Engenharia de Dados\\dados_ibge\\31.csv\n",
      "C:\\Users\\winis\\OneDrive\\Área de Trabalho\\POS Eng. Dados\\Linguagem de programação para Engenharia de Dados\\dados_ibge\\32.csv\n",
      "C:\\Users\\winis\\OneDrive\\Área de Trabalho\\POS Eng. Dados\\Linguagem de programação para Engenharia de Dados\\dados_ibge\\33.csv\n",
      "C:\\Users\\winis\\OneDrive\\Área de Trabalho\\POS Eng. Dados\\Linguagem de programação para Engenharia de Dados\\dados_ibge\\35.csv\n",
      "C:\\Users\\winis\\OneDrive\\Área de Trabalho\\POS Eng. Dados\\Linguagem de programação para Engenharia de Dados\\dados_ibge\\41.csv\n",
      "C:\\Users\\winis\\OneDrive\\Área de Trabalho\\POS Eng. Dados\\Linguagem de programação para Engenharia de Dados\\dados_ibge\\42.csv\n",
      "C:\\Users\\winis\\OneDrive\\Área de Trabalho\\POS Eng. Dados\\Linguagem de programação para Engenharia de Dados\\dados_ibge\\43.csv\n",
      "C:\\Users\\winis\\OneDrive\\Área de Trabalho\\POS Eng. Dados\\Linguagem de programação para Engenharia de Dados\\dados_ibge\\50.csv\n",
      "C:\\Users\\winis\\OneDrive\\Área de Trabalho\\POS Eng. Dados\\Linguagem de programação para Engenharia de Dados\\dados_ibge\\51.csv\n",
      "C:\\Users\\winis\\OneDrive\\Área de Trabalho\\POS Eng. Dados\\Linguagem de programação para Engenharia de Dados\\dados_ibge\\52.csv\n",
      "C:\\Users\\winis\\OneDrive\\Área de Trabalho\\POS Eng. Dados\\Linguagem de programação para Engenharia de Dados\\dados_ibge\\53.csv\n",
      "Dados inseridos com sucesso!\n"
     ]
    }
   ],
   "source": [
    "# Iterar sobre os arquivos CSV no caminho especificado\n",
    "for arquivo in arquivos:\n",
    "    if arquivo.suffix == '.csv':\n",
    "        print(arquivo)\n",
    "        # Ler os dados do arquivo CSV\n",
    "        with open(arquivo, 'r', newline='', encoding='utf-8') as arquivo_csv:\n",
    "            leitor_csv = csv.reader(arquivo_csv, delimiter=';') \n",
    "            # Pular o cabeçalho do arquivo CSV\n",
    "            next(leitor_csv)\n",
    "            # Converter os dados em tuplas e inserir na tabela SQLite\n",
    "            dados_para_inserir = [tuple(row) for row in leitor_csv]\n",
    "            inserir_dados(cursor, dados_para_inserir)\n",
    "\n",
    "# Commit das alterações e fechar conexão\n",
    "conexao.commit()\n",
    "\n",
    "conexao.close()\n",
    "\n",
    "print(\"Dados inseridos com sucesso!\")"
   ]
  },
  {
   "cell_type": "code",
   "execution_count": 8,
   "metadata": {},
   "outputs": [
    {
     "data": {
      "text/plain": [
       "[('11', '1100015', '1', -11.929621, -61.999058, '1'),\n",
       " ('11', '1100015', '7', -11.929365, -61.999312, '1'),\n",
       " ('11', '1100015', '6', -11.9294, -61.999499, '1'),\n",
       " ('11', '1100015', '6', -11.929364, -61.999695, '1'),\n",
       " ('11', '1100015', '1', -11.929381, -61.999262, '1'),\n",
       " ('11', '1100015', '1', -11.930439, -61.999046, '1'),\n",
       " ('11', '1100015', '7', -11.930571, -61.999006, '1'),\n",
       " ('11', '1100015', '1', -11.930311, -61.998982, '1'),\n",
       " ('11', '1100015', '1', -11.930717, -61.999009, '1'),\n",
       " ('11', '1100015', '1', -11.930282, -61.999566, '1')]"
      ]
     },
     "execution_count": 8,
     "metadata": {},
     "output_type": "execute_result"
    }
   ],
   "source": [
    "# Nome do arquivo de banco de dados SQLite\n",
    "banco_de_dados = 'DESAFIO_2.db'\n",
    "\n",
    "# Conexão com o banco de dados SQLite\n",
    "conexao = sqlite3.connect(banco_de_dados)\n",
    "cursor = conexao.cursor()\n",
    "\n",
    "\n",
    "# QTD na tabela ENDERECO_IBGE\n",
    "cursor.execute(\"SELECT count(1) FROM ENDERECO_IBGE\")\n",
    "cursor.fetchall()\n",
    "\n",
    "\n"
   ]
  }
 ],
 "metadata": {
  "kernelspec": {
   "display_name": "Python 3 (ipykernel)",
   "language": "python",
   "name": "python3"
  },
  "language_info": {
   "codemirror_mode": {
    "name": "ipython",
    "version": 3
   },
   "file_extension": ".py",
   "mimetype": "text/x-python",
   "name": "python",
   "nbconvert_exporter": "python",
   "pygments_lexer": "ipython3",
   "version": "3.11.4"
  }
 },
 "nbformat": 4,
 "nbformat_minor": 2
}
